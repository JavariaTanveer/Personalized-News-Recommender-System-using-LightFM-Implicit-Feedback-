{
  "nbformat": 4,
  "nbformat_minor": 0,
  "metadata": {
    "colab": {
      "provenance": []
    },
    "kernelspec": {
      "name": "python3",
      "display_name": "Python 3"
    },
    "language_info": {
      "name": "python"
    }
  },
  "cells": [
    {
      "cell_type": "code",
      "source": [
        "import pandas as pd\n",
        "import numpy as np\n",
        "from lightfm import LightFM\n",
        "from lightfm.data import Dataset\n",
        "from lightfm.evaluation import precision_at_k, recall_at_k, auc_score\n",
        "\n",
        "# Load datasets\n",
        "ratings = pd.read_csv(\"ratings.csv\")\n",
        "movies = pd.read_csv(\"movies.csv\")\n",
        "tags = pd.read_csv(\"tags.csv\")\n",
        "\n",
        "# Filter implicit positive feedback\n",
        "ratings = ratings[ratings[\"rating\"] >= 4.0]\n",
        "ratings[\"user_id\"] = ratings[\"userId\"].astype(str)\n",
        "ratings[\"item_id\"] = ratings[\"movieId\"].astype(str)\n",
        "movies[\"item_id\"] = movies[\"movieId\"].astype(str)\n",
        "tags[\"item_id\"] = tags[\"movieId\"].astype(str)\n",
        "tags[\"user_id\"] = tags[\"userId\"].astype(str)\n",
        "\n",
        "# Merge genres and tags\n",
        "tag_agg = tags.groupby(\"item_id\")[\"tag\"].apply(lambda x: \" \".join(x)).reset_index()\n",
        "movies = movies.merge(tag_agg, on=\"item_id\", how=\"left\")\n",
        "movies[\"genres\"] = movies[\"genres\"].fillna(\"\").str.replace(\"|\", \" \")\n",
        "movies[\"tag\"] = movies[\"tag\"].fillna(\"\")\n",
        "movies[\"features\"] = (movies[\"genres\"] + \" \" + movies[\"tag\"]).str.strip()\n",
        "\n",
        "# Filter movies only in ratings\n",
        "rated_items = set(ratings[\"item_id\"].unique())\n",
        "movies = movies[movies[\"item_id\"].isin(rated_items)].copy()\n",
        "\n",
        "# Build feature tuples\n",
        "item_feature_tuples = [\n",
        "    (row[\"item_id\"], row[\"features\"].split()) for _, row in movies.iterrows()\n",
        "]\n",
        "all_features = set(f for _, feats in item_feature_tuples for f in feats)\n",
        "\n",
        "# Fit dataset\n",
        "dataset = Dataset()\n",
        "dataset.fit(\n",
        "    users=ratings[\"user_id\"],\n",
        "    items=ratings[\"item_id\"],\n",
        "    item_features=all_features\n",
        ")\n",
        "\n",
        "# Build interaction & item feature matrices\n",
        "(interactions, _) = dataset.build_interactions(\n",
        "    [(row[\"user_id\"], row[\"item_id\"]) for _, row in ratings.iterrows()]\n",
        ")\n",
        "item_features = dataset.build_item_features(item_feature_tuples)\n",
        "\n",
        "# Train the model\n",
        "model = LightFM(loss=\"warp\", learning_rate=0.05)\n",
        "model.fit(interactions, item_features=item_features, epochs=20, num_threads=4)\n",
        "\n",
        "# Evaluation metrics\n",
        "precision = precision_at_k(model, interactions, item_features=item_features, k=5).mean()\n",
        "recall_10 = recall_at_k(model, interactions, item_features=item_features, k=10).mean()\n",
        "recall_20 = recall_at_k(model, interactions, item_features=item_features, k=20).mean()\n",
        "auc = auc_score(model, interactions, item_features=item_features).mean()\n",
        "\n",
        "print(f\"Precision@5: {precision:.4f}\")\n",
        "print(f\"Recall@10: {recall_10:.4f}\")\n",
        "print(f\"Recall@20: {recall_20:.4f}\")\n",
        "print(f\"AUC: {auc:.4f}\")\n",
        "\n",
        "# Recommend top-N items for a user\n",
        "def recommend(model, user_id_str, user_map, item_map, N=5):\n",
        "    user_id = user_map[user_id_str]\n",
        "    scores = model.predict(user_id, np.arange(len(item_map)), item_features=item_features)\n",
        "    top_items = np.argsort(-scores)[:N]\n",
        "    item_inv_map = {v: k for k, v in item_map.items()}\n",
        "    return [item_inv_map[i] for i in top_items]\n",
        "\n",
        "# Show recommendations\n",
        "user_map, _, item_map, _ = dataset.mapping()\n",
        "user_id = \"1\"\n",
        "recommendations = recommend(model, user_id, user_map, item_map)\n",
        "print(f\"Top {len(recommendations)} recommendations for user {user_id}: {recommendations}\")\n"
      ],
      "metadata": {
        "colab": {
          "base_uri": "https://localhost:8080/"
        },
        "id": "rzFUXmhrCNR7",
        "outputId": "0a363857-91d7-4b91-a542-20d7981317bd"
      },
      "execution_count": 36,
      "outputs": [
        {
          "output_type": "stream",
          "name": "stderr",
          "text": [
            "<ipython-input-36-5517e0a2de41>:14: SettingWithCopyWarning: \n",
            "A value is trying to be set on a copy of a slice from a DataFrame.\n",
            "Try using .loc[row_indexer,col_indexer] = value instead\n",
            "\n",
            "See the caveats in the documentation: https://pandas.pydata.org/pandas-docs/stable/user_guide/indexing.html#returning-a-view-versus-a-copy\n",
            "  ratings[\"user_id\"] = ratings[\"userId\"].astype(str)\n",
            "<ipython-input-36-5517e0a2de41>:15: SettingWithCopyWarning: \n",
            "A value is trying to be set on a copy of a slice from a DataFrame.\n",
            "Try using .loc[row_indexer,col_indexer] = value instead\n",
            "\n",
            "See the caveats in the documentation: https://pandas.pydata.org/pandas-docs/stable/user_guide/indexing.html#returning-a-view-versus-a-copy\n",
            "  ratings[\"item_id\"] = ratings[\"movieId\"].astype(str)\n"
          ]
        },
        {
          "output_type": "stream",
          "name": "stdout",
          "text": [
            "Precision@5: 0.4381\n",
            "Recall@10: 0.0878\n",
            "Recall@20: 0.1494\n",
            "AUC: 0.9333\n",
            " Top 5 recommendations for user 1: ['356', '1', '2571', '318', '260']\n"
          ]
        }
      ]
    },
    {
      "cell_type": "code",
      "source": [
        "import pandas as pd\n",
        "import numpy as np\n",
        "import matplotlib.pyplot as plt\n",
        "from lightfm import LightFM\n",
        "from lightfm.data import Dataset\n",
        "from lightfm.evaluation import precision_at_k, recall_at_k, auc_score\n",
        "\n",
        "# Load MovieLens data\n",
        "ratings = pd.read_csv(\"ratings.csv\")\n",
        "movies = pd.read_csv(\"movies.csv\")\n",
        "tags = pd.read_csv(\"tags.csv\")\n",
        "\n",
        "# Filter implicit feedback (rating >= 4)\n",
        "ratings = ratings[ratings[\"rating\"] >= 4.0]\n",
        "ratings[\"user_id\"] = ratings[\"userId\"].astype(str)\n",
        "ratings[\"item_id\"] = ratings[\"movieId\"].astype(str)\n",
        "movies[\"item_id\"] = movies[\"movieId\"].astype(str)\n",
        "tags[\"item_id\"] = tags[\"movieId\"].astype(str)\n",
        "tags[\"user_id\"] = tags[\"userId\"].astype(str)\n",
        "\n",
        "# Merge genres and tags into features\n",
        "tag_agg = tags.groupby(\"item_id\")[\"tag\"].apply(lambda x: \" \".join(x)).reset_index()\n",
        "movies = movies.merge(tag_agg, on=\"item_id\", how=\"left\")\n",
        "movies[\"genres\"] = movies[\"genres\"].fillna(\"\").str.replace(\"|\", \" \")\n",
        "movies[\"tag\"] = movies[\"tag\"].fillna(\"\")\n",
        "movies[\"features\"] = (movies[\"genres\"] + \" \" + movies[\"tag\"]).str.strip()\n",
        "\n",
        "# Keep only items that are rated\n",
        "rated_items = set(ratings[\"item_id\"].unique())\n",
        "movies = movies[movies[\"item_id\"].isin(rated_items)].copy()\n",
        "\n",
        "# Prepare item features\n",
        "item_feature_tuples = [(row[\"item_id\"], row[\"features\"].split()) for _, row in movies.iterrows()]\n",
        "all_features = set(f for _, feats in item_feature_tuples for f in feats)\n",
        "\n",
        "# Fit dataset\n",
        "dataset = Dataset()\n",
        "dataset.fit(users=ratings[\"user_id\"], items=ratings[\"item_id\"], item_features=all_features)\n",
        "(interactions, _) = dataset.build_interactions([(row[\"user_id\"], row[\"item_id\"]) for _, row in ratings.iterrows()])\n",
        "item_features = dataset.build_item_features(item_feature_tuples)\n",
        "\n",
        "# Train model\n",
        "model = LightFM(loss=\"warp\", learning_rate=0.05)\n",
        "model.fit(interactions, item_features=item_features, epochs=20, num_threads=4)\n",
        "\n",
        "# Evaluation metrics\n",
        "ks = [5, 10, 20]\n",
        "precisions = [precision_at_k(model, interactions, item_features=item_features, k=k).mean() for k in ks]\n",
        "recalls = [recall_at_k(model, interactions, item_features=item_features, k=k).mean() for k in ks]\n",
        "auc = auc_score(model, interactions, item_features=item_features).mean()\n",
        "\n",
        "# Print scores\n",
        "print(f\"🎯 AUC: {auc:.4f}\")\n",
        "for k, p, r in zip(ks, precisions, recalls):\n",
        "    print(f\"Precision@{k}: {p:.4f} | Recall@{k}: {r:.4f}\")\n",
        "\n",
        "# Precision-Recall plot\n",
        "plt.figure(figsize=(8, 5))\n",
        "plt.plot(recalls, precisions, marker='o')\n",
        "plt.xlabel(\"Recall\")\n",
        "plt.ylabel(\"Precision\")\n",
        "plt.title(\"Precision-Recall Trade-off\")\n",
        "plt.grid(True)\n",
        "plt.tight_layout()\n",
        "plt.show()\n",
        "\n",
        "# Top-N recommendation function\n",
        "def recommend(model, user_id_str, user_map, item_map, N=5):\n",
        "    user_id = user_map[user_id_str]\n",
        "    scores = model.predict(user_id, np.arange(len(item_map)), item_features=item_features)\n",
        "    top_items = np.argsort(-scores)[:N]\n",
        "    item_inv_map = {v: k for k, v in item_map.items()}\n",
        "    return [item_inv_map[i] for i in top_items]\n",
        "\n",
        "# Recommend for multiple users\n",
        "user_map, _, item_map, _ = dataset.mapping()\n",
        "sample_users = list(user_map.keys())[:5]\n",
        "recommendations_by_user = {}\n",
        "\n",
        "for uid in sample_users:\n",
        "    recs = recommend(model, uid, user_map, item_map, N=5)\n",
        "    titles = movies[movies[\"item_id\"].isin(recs)][[\"title\"]].title.tolist()\n",
        "    recommendations_by_user[uid] = titles\n",
        "\n",
        "# Print recommendations\n",
        "for uid, recs in recommendations_by_user.items():\n",
        "    print(f\"🔮 Recommendations for user {uid}: {recs}\")\n",
        "\n",
        "# Catalog coverage\n",
        "all_recommended_items = {item for recs in recommendations_by_user.values() for item in recs}\n",
        "coverage = len(all_recommended_items) / len(movies)\n",
        "print(f\"🌍 Catalog coverage: {coverage:.2%}\")\n"
      ],
      "metadata": {
        "colab": {
          "base_uri": "https://localhost:8080/",
          "height": 909
        },
        "id": "i1ZT9a7AD3R8",
        "outputId": "c4b24df3-1185-49d1-c6fa-bb7ddca7233b"
      },
      "execution_count": 37,
      "outputs": [
        {
          "output_type": "stream",
          "name": "stderr",
          "text": [
            "<ipython-input-37-f53c29364d14>:15: SettingWithCopyWarning: \n",
            "A value is trying to be set on a copy of a slice from a DataFrame.\n",
            "Try using .loc[row_indexer,col_indexer] = value instead\n",
            "\n",
            "See the caveats in the documentation: https://pandas.pydata.org/pandas-docs/stable/user_guide/indexing.html#returning-a-view-versus-a-copy\n",
            "  ratings[\"user_id\"] = ratings[\"userId\"].astype(str)\n",
            "<ipython-input-37-f53c29364d14>:16: SettingWithCopyWarning: \n",
            "A value is trying to be set on a copy of a slice from a DataFrame.\n",
            "Try using .loc[row_indexer,col_indexer] = value instead\n",
            "\n",
            "See the caveats in the documentation: https://pandas.pydata.org/pandas-docs/stable/user_guide/indexing.html#returning-a-view-versus-a-copy\n",
            "  ratings[\"item_id\"] = ratings[\"movieId\"].astype(str)\n"
          ]
        },
        {
          "output_type": "stream",
          "name": "stdout",
          "text": [
            "🎯 AUC: 0.9352\n",
            "Precision@5: 0.4443 | Recall@5: 0.0506\n",
            "Precision@10: 0.4140 | Recall@10: 0.0891\n",
            "Precision@20: 0.3628 | Recall@20: 0.1466\n"
          ]
        },
        {
          "output_type": "display_data",
          "data": {
            "text/plain": [
              "<Figure size 800x500 with 1 Axes>"
            ],
            "image/png": "[encoded data removed]"
          },
          "metadata": {}
        },
        {
          "output_type": "stream",
          "name": "stdout",
          "text": [
            "🔮 Recommendations for user 1: ['Toy Story (1995)', 'Forrest Gump (1994)', 'Jurassic Park (1993)', 'Aladdin (1992)', 'Matrix, The (1999)']\n",
            "🔮 Recommendations for user 2: ['Star Wars: Episode IV - A New Hope (1977)', 'Pulp Fiction (1994)', 'Shawshank Redemption, The (1994)', 'Forrest Gump (1994)', 'Matrix, The (1999)']\n",
            "🔮 Recommendations for user 3: ['Species (1995)', 'Thing, The (1982)', '28 Weeks Later (2007)', 'Planet Terror (2007)', 'Iron Man (2008)']\n",
            "🔮 Recommendations for user 4: ['Shawshank Redemption, The (1994)', \"Schindler's List (1993)\", 'Graduate, The (1967)', 'American Beauty (1999)', \"Amelie (Fabuleux destin d'Amélie Poulain, Le) (2001)\"]\n",
            "🔮 Recommendations for user 5: ['Pulp Fiction (1994)', 'Shawshank Redemption, The (1994)', 'Forrest Gump (1994)', \"Schindler's List (1993)\", 'American Beauty (1999)']\n",
            "🌍 Catalog coverage: 0.27%\n"
          ]
        }
      ]
    }
  ]
}